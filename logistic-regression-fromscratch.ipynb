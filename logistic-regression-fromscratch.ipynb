{
 "cells": [
  {
   "cell_type": "markdown",
   "id": "814201ac",
   "metadata": {},
   "source": [
    "# Logistic Regression from scratch"
   ]
  },
  {
   "cell_type": "code",
   "execution_count": 2,
   "id": "305a97e2",
   "metadata": {},
   "outputs": [],
   "source": [
    "import math\n",
    "\n",
    "import numpy as np\n",
    "import pandas as pd"
   ]
  },
  {
   "cell_type": "code",
   "execution_count": null,
   "id": "0ac8ec20",
   "metadata": {},
   "outputs": [],
   "source": [
    "class LogisticRegression:\n",
    "    def __init__(self, X, y):\n",
    "        self.X = x\n",
    "        self.y = y\n",
    "        self.W = np.zeros(len(X))\n",
    "    \n",
    "    def sigmoid(self, x):\n",
    "        return (1 / 1 + math.exp(-x))\n",
    "    \n",
    "    def logloss(self):\n",
    "        # sum over ((1-y_i)(log(1 - y_i)) + (1-y_i)(log(1-y_i)))\n",
    "        pass\n",
    "    \n",
    "    def predict(self):\n",
    "        # multiply input vector by W\n",
    "        # pass through sigmoid\n",
    "        # return vectors of probabilities\n",
    "        pass\n",
    "    \n",
    "    def train(self):\n",
    "        # for loop\n",
    "            # get loss calling logloss\n",
    "            # make update\n",
    "            # check stop condition\n",
    "                # break if met\n",
    "        pass"
   ]
  },
  {
   "cell_type": "code",
   "execution_count": null,
   "id": "6c95f4a4",
   "metadata": {},
   "outputs": [],
   "source": []
  },
  {
   "cell_type": "code",
   "execution_count": null,
   "id": "4bc308b1",
   "metadata": {},
   "outputs": [],
   "source": []
  }
 ],
 "metadata": {
  "kernelspec": {
   "display_name": "Python 3 (ipykernel)",
   "language": "python",
   "name": "python3"
  },
  "language_info": {
   "codemirror_mode": {
    "name": "ipython",
    "version": 3
   },
   "file_extension": ".py",
   "mimetype": "text/x-python",
   "name": "python",
   "nbconvert_exporter": "python",
   "pygments_lexer": "ipython3",
   "version": "3.9.13"
  }
 },
 "nbformat": 4,
 "nbformat_minor": 5
}
